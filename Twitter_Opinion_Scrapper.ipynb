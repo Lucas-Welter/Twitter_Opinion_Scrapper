{
  "nbformat": 4,
  "nbformat_minor": 0,
  "metadata": {
    "colab": {
      "provenance": [],
      "include_colab_link": true
    },
    "kernelspec": {
      "name": "python3",
      "display_name": "Python 3"
    },
    "language_info": {
      "name": "python"
    },
    "accelerator": "GPU"
  },
  "cells": [
    {
      "cell_type": "markdown",
      "metadata": {
        "id": "view-in-github",
        "colab_type": "text"
      },
      "source": [
        "<a href=\"https://colab.research.google.com/github/Lucas-Welter/Twitter_Opinion_Scrapper/blob/main/Twitter_Opinion_Scrapper.ipynb\" target=\"_parent\"><img src=\"https://colab.research.google.com/assets/colab-badge.svg\" alt=\"Open In Colab\"/></a>"
      ]
    },
    {
      "cell_type": "markdown",
      "source": [
        "## **COLETANDO DADOS**"
      ],
      "metadata": {
        "id": "WZw7Yp7hkfZ-"
      }
    },
    {
      "cell_type": "code",
      "execution_count": null,
      "metadata": {
        "id": "HrWFnLaalG7E"
      },
      "outputs": [],
      "source": [
        "import numpy as np"
      ]
    },
    {
      "cell_type": "code",
      "source": [
        "# pegando tabela do drive\n",
        "from google.colab import auth\n",
        "auth.authenticate_user()\n",
        "import gspread\n",
        "from google.auth import default\n",
        "creds, _ = default()\n",
        "gc = gspread.authorize(creds)\n",
        "worksheet = gc.open('eleicoes2022').sheet1\n"
      ],
      "metadata": {
        "id": "y1xH9n9SxBLa"
      },
      "execution_count": null,
      "outputs": []
    },
    {
      "cell_type": "code",
      "source": [
        "# convertendo para um dataframe\n",
        "rows = worksheet.get_all_values()\n",
        "import pandas as pd\n",
        "df=pd.DataFrame(rows[1:],columns=rows[0])"
      ],
      "metadata": {
        "id": "ZrlD6ab2xQiq"
      },
      "execution_count": null,
      "outputs": []
    },
    {
      "cell_type": "code",
      "source": [
        "# palavras chave para o filter\n",
        "sentNeu=['neu']\n",
        "sentPos=['pos']\n",
        "sentNeg=['neg']"
      ],
      "metadata": {
        "id": "c3q7Ei32cE9O"
      },
      "execution_count": null,
      "outputs": []
    },
    {
      "cell_type": "code",
      "source": [
        "# Armazenando os valores da tabela antiga e filtrando .\n",
        "coluna_neu = df['Texto'].loc[df['Classe'].isin(sentNeu)]\n",
        "coluna_neu = list(filter(('NaN').__ne__, coluna_neu))\n",
        "coluna_pos = df['Texto'].loc[df['Classe'].isin(sentPos)]\n",
        "coluna_pos = list(filter(('NaN').__ne__, coluna_pos))\n",
        "\n",
        "# OBS: Os pop's são para tirar o valor excessivo que estava desbalanceando o Data set\n",
        "for i in range(5):\n",
        "  coluna_pos.pop()\n",
        "coluna_neg = df['Texto'].loc[df['Classe'].isin(sentNeg)]\n",
        "coluna_neg = list(filter(('NaN').__ne__, coluna_neg))\n",
        "for i in range(293):\n",
        "  coluna_neg.pop()\n",
        "\n"
      ],
      "metadata": {
        "id": "QOxZ5PPjfwcT"
      },
      "execution_count": null,
      "outputs": []
    },
    {
      "cell_type": "code",
      "source": [
        "# Criando um novo DataFrame para não ter que lidar com os índices residuais do anterior\n",
        "df2=pd.DataFrame()"
      ],
      "metadata": {
        "id": "1prtrG3SX44B"
      },
      "execution_count": null,
      "outputs": []
    },
    {
      "cell_type": "code",
      "source": [
        "# Inserindo as colunas no novo DataFrame\n",
        "df2.insert(loc=0,column='NEU',value= coluna_neu)\n",
        "df2.insert(loc=0,column='POS',value= coluna_pos)\n",
        "df2.insert(loc=0,column='NEG',value= coluna_neg)"
      ],
      "metadata": {
        "id": "v73FICB7cNzW"
      },
      "execution_count": null,
      "outputs": []
    },
    {
      "cell_type": "code",
      "source": [
        "df2"
      ],
      "metadata": {
        "id": "kK46vT3amohu"
      },
      "execution_count": null,
      "outputs": []
    },
    {
      "cell_type": "code",
      "source": [
        "# Função para retirar os caracteres especiais.\n",
        "for column in df2.columns:\n",
        "  df2[column] = df2[column].str.replace(r'\\W',\" \")"
      ],
      "metadata": {
        "id": "Uj4Lsb9MjjVT",
        "colab": {
          "base_uri": "https://localhost:8080/"
        },
        "outputId": "1293ee27-f9c6-40f1-cc11-fcc8f4235345"
      },
      "execution_count": null,
      "outputs": [
        {
          "output_type": "stream",
          "name": "stderr",
          "text": [
            "/usr/local/lib/python3.7/dist-packages/ipykernel_launcher.py:3: FutureWarning: The default value of regex will change from True to False in a future version.\n",
            "  This is separate from the ipykernel package so we can avoid doing imports until\n"
          ]
        }
      ]
    },
    {
      "cell_type": "code",
      "source": [
        "# Estabelecendo conjunto de treino global\n",
        "intencoes = ['NEU', 'POS', 'NEG']\n",
        "xtrain_global = []\n",
        "ytrain_global = []\n",
        "for intencao in intencoes:\n",
        "    lintencao = df2[intencao].values.tolist()\n",
        "    xtrain_global += lintencao\n",
        "    ytrain_global += [intencao]*len(lintencao)\n"
      ],
      "metadata": {
        "id": "wYT8oBvwxaFq"
      },
      "execution_count": null,
      "outputs": []
    },
    {
      "cell_type": "code",
      "source": [
        "xtrain_global,ytrain_global"
      ],
      "metadata": {
        "id": "2xcnww21wFoI"
      },
      "execution_count": null,
      "outputs": []
    },
    {
      "cell_type": "markdown",
      "source": [
        "## SLPIT ENTRE TREINO, TESTE E VALIDAÇÃO"
      ],
      "metadata": {
        "id": "TaMUK81p5VhL"
      }
    },
    {
      "cell_type": "code",
      "source": [
        "import sklearn.model_selection as model_selection"
      ],
      "metadata": {
        "id": "AVEBtuT_48gz"
      },
      "execution_count": null,
      "outputs": []
    },
    {
      "cell_type": "code",
      "source": [
        "# Dividi o treino em treino(80%) e teste(20%), após isso dividi o teste em teste(10%) e validação(10%)\n",
        "xtrain, xtest, ytrain, ytest = model_selection.train_test_split(xtrain_global, ytrain_global, test_size=0.20, random_state=42,shuffle=True)\n",
        "xtestS, xval, ytesteS, yval = model_selection.train_test_split(xtest, ytest, test_size=0.50, random_state=42,shuffle=True)"
      ],
      "metadata": {
        "id": "5sBlMc334wD8"
      },
      "execution_count": null,
      "outputs": []
    },
    {
      "cell_type": "code",
      "source": [
        "# Verificando se foi dividio corretamente\n",
        "len(xtrain_global)\n"
      ],
      "metadata": {
        "colab": {
          "base_uri": "https://localhost:8080/"
        },
        "id": "bRBLRiG9xg4-",
        "outputId": "bcdd4038-fbe2-4029-bf2c-66ba6deaa7db"
      },
      "execution_count": null,
      "outputs": [
        {
          "output_type": "execute_result",
          "data": {
            "text/plain": [
              "22302"
            ]
          },
          "metadata": {},
          "execution_count": 41
        }
      ]
    },
    {
      "cell_type": "code",
      "source": [
        "len(xtestS)"
      ],
      "metadata": {
        "colab": {
          "base_uri": "https://localhost:8080/"
        },
        "id": "Kw1RYUwmxaHi",
        "outputId": "23ba61e5-1ba2-475c-95a3-d85e5e2e4324"
      },
      "execution_count": null,
      "outputs": [
        {
          "output_type": "execute_result",
          "data": {
            "text/plain": [
              "2230"
            ]
          },
          "metadata": {},
          "execution_count": 42
        }
      ]
    },
    {
      "cell_type": "code",
      "source": [
        "len(xval)"
      ],
      "metadata": {
        "colab": {
          "base_uri": "https://localhost:8080/"
        },
        "id": "ptjPqZsS6_10",
        "outputId": "d5044d6d-6718-4b4c-bf11-8a60f59d62a7"
      },
      "execution_count": null,
      "outputs": [
        {
          "output_type": "execute_result",
          "data": {
            "text/plain": [
              "2231"
            ]
          },
          "metadata": {},
          "execution_count": 43
        }
      ]
    },
    {
      "cell_type": "markdown",
      "source": [
        "### **PRÉ-PROCESSAMENTO**"
      ],
      "metadata": {
        "id": "McZ0JtAn7aI-"
      }
    },
    {
      "cell_type": "code",
      "source": [
        "!pip install -U sentence-transformers"
      ],
      "metadata": {
        "colab": {
          "base_uri": "https://localhost:8080/"
        },
        "id": "YMRFYHs37Z1O",
        "outputId": "3155db4d-434d-4b46-d43f-c2e8f06f173a"
      },
      "execution_count": null,
      "outputs": [
        {
          "output_type": "stream",
          "name": "stdout",
          "text": [
            "Looking in indexes: https://pypi.org/simple, https://us-python.pkg.dev/colab-wheels/public/simple/\n",
            "Requirement already satisfied: sentence-transformers in /usr/local/lib/python3.7/dist-packages (2.2.2)\n",
            "Requirement already satisfied: sentencepiece in /usr/local/lib/python3.7/dist-packages (from sentence-transformers) (0.1.97)\n",
            "Requirement already satisfied: scipy in /usr/local/lib/python3.7/dist-packages (from sentence-transformers) (1.7.3)\n",
            "Requirement already satisfied: torchvision in /usr/local/lib/python3.7/dist-packages (from sentence-transformers) (0.13.1+cu113)\n",
            "Requirement already satisfied: transformers<5.0.0,>=4.6.0 in /usr/local/lib/python3.7/dist-packages (from sentence-transformers) (4.22.2)\n",
            "Requirement already satisfied: tqdm in /usr/local/lib/python3.7/dist-packages (from sentence-transformers) (4.64.1)\n",
            "Requirement already satisfied: numpy in /usr/local/lib/python3.7/dist-packages (from sentence-transformers) (1.21.6)\n",
            "Requirement already satisfied: scikit-learn in /usr/local/lib/python3.7/dist-packages (from sentence-transformers) (1.0.2)\n",
            "Requirement already satisfied: huggingface-hub>=0.4.0 in /usr/local/lib/python3.7/dist-packages (from sentence-transformers) (0.10.0)\n",
            "Requirement already satisfied: nltk in /usr/local/lib/python3.7/dist-packages (from sentence-transformers) (3.7)\n",
            "Requirement already satisfied: torch>=1.6.0 in /usr/local/lib/python3.7/dist-packages (from sentence-transformers) (1.12.1+cu113)\n",
            "Requirement already satisfied: packaging>=20.9 in /usr/local/lib/python3.7/dist-packages (from huggingface-hub>=0.4.0->sentence-transformers) (21.3)\n",
            "Requirement already satisfied: typing-extensions>=3.7.4.3 in /usr/local/lib/python3.7/dist-packages (from huggingface-hub>=0.4.0->sentence-transformers) (4.1.1)\n",
            "Requirement already satisfied: importlib-metadata in /usr/local/lib/python3.7/dist-packages (from huggingface-hub>=0.4.0->sentence-transformers) (4.12.0)\n",
            "Requirement already satisfied: filelock in /usr/local/lib/python3.7/dist-packages (from huggingface-hub>=0.4.0->sentence-transformers) (3.8.0)\n",
            "Requirement already satisfied: pyyaml>=5.1 in /usr/local/lib/python3.7/dist-packages (from huggingface-hub>=0.4.0->sentence-transformers) (6.0)\n",
            "Requirement already satisfied: requests in /usr/local/lib/python3.7/dist-packages (from huggingface-hub>=0.4.0->sentence-transformers) (2.23.0)\n",
            "Requirement already satisfied: pyparsing!=3.0.5,>=2.0.2 in /usr/local/lib/python3.7/dist-packages (from packaging>=20.9->huggingface-hub>=0.4.0->sentence-transformers) (3.0.9)\n",
            "Requirement already satisfied: tokenizers!=0.11.3,<0.13,>=0.11.1 in /usr/local/lib/python3.7/dist-packages (from transformers<5.0.0,>=4.6.0->sentence-transformers) (0.12.1)\n",
            "Requirement already satisfied: regex!=2019.12.17 in /usr/local/lib/python3.7/dist-packages (from transformers<5.0.0,>=4.6.0->sentence-transformers) (2022.6.2)\n",
            "Requirement already satisfied: zipp>=0.5 in /usr/local/lib/python3.7/dist-packages (from importlib-metadata->huggingface-hub>=0.4.0->sentence-transformers) (3.8.1)\n",
            "Requirement already satisfied: click in /usr/local/lib/python3.7/dist-packages (from nltk->sentence-transformers) (7.1.2)\n",
            "Requirement already satisfied: joblib in /usr/local/lib/python3.7/dist-packages (from nltk->sentence-transformers) (1.1.0)\n",
            "Requirement already satisfied: chardet<4,>=3.0.2 in /usr/local/lib/python3.7/dist-packages (from requests->huggingface-hub>=0.4.0->sentence-transformers) (3.0.4)\n",
            "Requirement already satisfied: certifi>=2017.4.17 in /usr/local/lib/python3.7/dist-packages (from requests->huggingface-hub>=0.4.0->sentence-transformers) (2022.6.15)\n",
            "Requirement already satisfied: idna<3,>=2.5 in /usr/local/lib/python3.7/dist-packages (from requests->huggingface-hub>=0.4.0->sentence-transformers) (2.10)\n",
            "Requirement already satisfied: urllib3!=1.25.0,!=1.25.1,<1.26,>=1.21.1 in /usr/local/lib/python3.7/dist-packages (from requests->huggingface-hub>=0.4.0->sentence-transformers) (1.24.3)\n",
            "Requirement already satisfied: threadpoolctl>=2.0.0 in /usr/local/lib/python3.7/dist-packages (from scikit-learn->sentence-transformers) (3.1.0)\n",
            "Requirement already satisfied: pillow!=8.3.*,>=5.3.0 in /usr/local/lib/python3.7/dist-packages (from torchvision->sentence-transformers) (7.1.2)\n"
          ]
        }
      ]
    },
    {
      "cell_type": "code",
      "source": [
        "from sentence_transformers import SentenceTransformer"
      ],
      "metadata": {
        "id": "H51ONWTI7hVQ"
      },
      "execution_count": null,
      "outputs": []
    },
    {
      "cell_type": "code",
      "source": [
        "converter = SentenceTransformer('multi-qa-distilbert-cos-v1')"
      ],
      "metadata": {
        "id": "aMd96gGX7i2F"
      },
      "execution_count": null,
      "outputs": []
    },
    {
      "cell_type": "code",
      "source": [
        "xtrain_emb = converter.encode(xtrain)\n",
        "xval_emb = converter.encode(xval)\n",
        "xtestS_emb = converter.encode(xtestS)"
      ],
      "metadata": {
        "id": "IfPCLq-67s5q"
      },
      "execution_count": null,
      "outputs": []
    },
    {
      "cell_type": "markdown",
      "source": [
        "### **INDUÇÃO DO MODELO**"
      ],
      "metadata": {
        "id": "GoXSM8u5718P"
      }
    },
    {
      "cell_type": "code",
      "source": [
        "from sklearn.neighbors import KNeighborsClassifier\n"
      ],
      "metadata": {
        "id": "GQohp_Io75KO"
      },
      "execution_count": null,
      "outputs": []
    },
    {
      "cell_type": "code",
      "source": [
        "# Escolhendo o melhor K com o sklearn"
      ],
      "metadata": {
        "id": "Fnx8N4S9dEY9"
      },
      "execution_count": null,
      "outputs": []
    },
    {
      "cell_type": "code",
      "source": [
        "training_accuracy=[]\n",
        "test_accuracy=[]\n",
        "# O google me barrou antes de eu conseguir executar esse teste(range 1,30), mas meu melhor valor anteriormente foi 17\n",
        "neighbours=range(1,30)\n",
        "\n",
        "for number_of_neighbours in neighbours:\n",
        "  KNN =KNeighborsClassifier(n_neighbors=number_of_neighbours)\n",
        "  KNN.fit(xtrain_emb,ytrain)\n",
        "  training_accuracy.append(KNN.score(xtrain_emb,ytrain))\n",
        "  test_accuracy.append(KNN.score(xtestS_emb,ytesteS))"
      ],
      "metadata": {
        "id": "9Ad_P7V_dSIa"
      },
      "execution_count": null,
      "outputs": []
    },
    {
      "cell_type": "code",
      "source": [
        "# Demonstrando em gráfico o melhor k."
      ],
      "metadata": {
        "id": "-V1o42PUe1Bz"
      },
      "execution_count": null,
      "outputs": []
    },
    {
      "cell_type": "code",
      "source": [
        "import matplotlib.pyplot as plt\n",
        "\n",
        "plt.plot(neighbours,training_accuracy,label=\"training accuracy\")\n",
        "plt.plot(neighbours,test_accuracy,label=\"test accuracy\")\n",
        "plt.ylabel(\"Accuracy\")\n",
        "plt.xlabel(\"neighbors\")\n",
        "plt.legend()"
      ],
      "metadata": {
        "id": "PD3ubFsCe6Qn"
      },
      "execution_count": null,
      "outputs": []
    },
    {
      "cell_type": "code",
      "source": [
        "knn = KNeighborsClassifier(n_neighbors=17)"
      ],
      "metadata": {
        "id": "FjbFJDZq777k"
      },
      "execution_count": null,
      "outputs": []
    },
    {
      "cell_type": "code",
      "source": [
        "knn.fit(xtrain_emb,ytrain)"
      ],
      "metadata": {
        "id": "eDiaoUOh770e"
      },
      "execution_count": null,
      "outputs": []
    },
    {
      "cell_type": "code",
      "source": [
        "knn.predict(converter.encode(['lULA É LADRÃO','vou votar no Bolsonaro 22','é um ótimo dia para ser brasileiro']))"
      ],
      "metadata": {
        "id": "HLI6ds4G8LoU"
      },
      "execution_count": null,
      "outputs": []
    },
    {
      "cell_type": "markdown",
      "source": [
        "### **AVALIAÇÃO DO MODELO**"
      ],
      "metadata": {
        "id": "reBo_HF78M0f"
      }
    },
    {
      "cell_type": "code",
      "source": [
        "import sklearn.metrics as metrics"
      ],
      "metadata": {
        "id": "PNnUDpbp8gSv"
      },
      "execution_count": null,
      "outputs": []
    },
    {
      "cell_type": "code",
      "source": [
        "pred = knn.predict(xtestS_emb)"
      ],
      "metadata": {
        "id": "fhp4-mcg8ha6"
      },
      "execution_count": null,
      "outputs": []
    },
    {
      "cell_type": "code",
      "source": [
        "print(metrics.classification_report(ytesteS,pred))"
      ],
      "metadata": {
        "id": "7JYphQyw8iin"
      },
      "execution_count": null,
      "outputs": []
    },
    {
      "cell_type": "code",
      "source": [
        "print(metrics.confusion_matrix(ytesteS,pred))"
      ],
      "metadata": {
        "id": "l8i551odkyQY"
      },
      "execution_count": null,
      "outputs": []
    },
    {
      "cell_type": "markdown",
      "source": [
        "### **MODELO FINAL**"
      ],
      "metadata": {
        "id": "eTXkPUMXmjSz"
      }
    },
    {
      "cell_type": "code",
      "source": [
        "knn.fit(converter.encode(xtrain_global),ytrain_global)"
      ],
      "metadata": {
        "id": "fho5HEaumnOq"
      },
      "execution_count": null,
      "outputs": []
    },
    {
      "cell_type": "code",
      "source": [
        "from joblib import dump, load"
      ],
      "metadata": {
        "id": "S5ZY_zKTmr4W"
      },
      "execution_count": null,
      "outputs": []
    },
    {
      "cell_type": "code",
      "source": [
        "dump(knn, 'SensorTwitter.joblib') "
      ],
      "metadata": {
        "id": "NAv2tGEkm49e"
      },
      "execution_count": null,
      "outputs": []
    },
    {
      "cell_type": "code",
      "source": [
        "modelo_final = load('SensorTwitter.joblib') "
      ],
      "metadata": {
        "id": "mMxfoPvcm_2D"
      },
      "execution_count": null,
      "outputs": []
    },
    {
      "cell_type": "code",
      "source": [
        "modelo_final.predict([converter.encode('simone ladrão')])"
      ],
      "metadata": {
        "id": "AKMaHUx-nEiW"
      },
      "execution_count": null,
      "outputs": []
    },
    {
      "cell_type": "markdown",
      "source": [
        "### **CONSTRUÇÃO DO SENSOR**"
      ],
      "metadata": {
        "id": "AZMJhhFcl3Y2"
      }
    },
    {
      "cell_type": "code",
      "source": [
        "!pip install snscrape\n",
        "import snscrape.modules.twitter as sns"
      ],
      "metadata": {
        "id": "voWS-7b1l1uF"
      },
      "execution_count": null,
      "outputs": []
    },
    {
      "cell_type": "code",
      "source": [
        "# Utilizando o query para extrair os tweets (reaproveitei da parte 1)\n",
        "query_bolsonaro = \"(bolsonaro) lang:pt\"\n",
        "tweets_bolsonaro = []\n",
        "query_lula = \"(lula) lang:pt\"\n",
        "tweets_lula = []\n",
        "query_ciro = \"(ciro) lang:pt\"\n",
        "tweets_ciro = []\n",
        "query_simone = \"(simone tebet) lang:pt\"\n",
        "tweets_simone = []\n",
        "max_size = 149"
      ],
      "metadata": {
        "id": "Pv7yz3Qvn3iu"
      },
      "execution_count": null,
      "outputs": []
    },
    {
      "cell_type": "code",
      "source": [
        "# Função que retorna a resposta do modelo sobre os tweets, que inclusive também\n",
        "# tem os caracteres especiais removidos nessa parte\n",
        "def getTweets(query, tweets):\n",
        "    for tweet in sns.TwitterSearchScraper(query).get_items():\n",
        "        tweets.append(tweet.content)\n",
        "        if len(tweets) > max_size:\n",
        "            break\n",
        "    tweets.str.replace(r'\\W',\" \")        \n",
        "    grafico=[]        \n",
        "    grafico = modelo_final.predict(converter.encode(tweets))\n",
        "    return grafico\n"
      ],
      "metadata": {
        "id": "5PhfjAyAn_fI"
      },
      "execution_count": null,
      "outputs": []
    },
    {
      "cell_type": "code",
      "source": [
        " ##OBS: CASO DE ERRO, TENTE MAIS ALGUMAS VEZES, PODE SER QUE O TWEET SEJA INVÁLIDO\n",
        "result_bolsonaro = getTweets(query_bolsonaro, tweets_bolsonaro)\n",
        "result_lula = getTweets(query_lula, tweets_lula)\n",
        "result_ciro = getTweets(query_ciro, tweets_ciro)\n",
        "result_simone = getTweets(query_simone, tweets_simone)"
      ],
      "metadata": {
        "id": "M8vhJDWe6ehH"
      },
      "execution_count": null,
      "outputs": []
    },
    {
      "cell_type": "code",
      "source": [
        "# Classes para o gráfico\n",
        "classes=['pos','neu','neg']"
      ],
      "metadata": {
        "id": "e6NzO5kb8GbF"
      },
      "execution_count": null,
      "outputs": []
    },
    {
      "cell_type": "code",
      "source": [
        "# Função que conta os sentimentos positivo, negativo e neutro e devolve o gráfico plotado para aquele candidato\n",
        "def geradorDeGrafico(resultado):\n",
        "  cont=0\n",
        "  resultado\n",
        "  for elemento in resultado:\n",
        "    if elemento == 'POS':\n",
        "      cont+=1\n",
        "  tweetPositivo = cont\n",
        "  cont=0\n",
        "  for elemento in resultado:\n",
        "    if elemento == 'NEU':\n",
        "      cont+=1\n",
        "  tweetNegativo = cont\n",
        "  cont=0\n",
        "  for elemento in resultado:\n",
        "    if elemento == 'NEG':\n",
        "      cont+=1\n",
        "  tweetNeutro = cont\n",
        "  cont=0\n",
        "  todos_tweets = [tweetPositivo,tweetNeutro,tweetNegativo]\n",
        "  plt.bar(classes,todos_tweets)\n",
        "  "
      ],
      "metadata": {
        "id": "J5WrA6Z3z6bm"
      },
      "execution_count": null,
      "outputs": []
    },
    {
      "cell_type": "code",
      "source": [
        "!pip install schedule\n",
        "import schedule\n",
        "import time\n"
      ],
      "metadata": {
        "id": "GuuIvvyuEP0z"
      },
      "execution_count": null,
      "outputs": []
    },
    {
      "cell_type": "code",
      "source": [
        "print(\"GRÁFICO DO BOLSONARO\")\n",
        "geradorDeGrafico(result_bolsonaro)"
      ],
      "metadata": {
        "id": "EzwcembwOixy"
      },
      "execution_count": null,
      "outputs": []
    },
    {
      "cell_type": "code",
      "source": [
        "print(\"GRÁFICO DO LULA\")\n",
        "geradorDeGrafico(result_lula)"
      ],
      "metadata": {
        "id": "08BX_pyg9qC3"
      },
      "execution_count": null,
      "outputs": []
    },
    {
      "cell_type": "code",
      "source": [
        "print(\"GRÁFICO DO CIRO\")\n",
        "geradorDeGrafico(result_ciro)"
      ],
      "metadata": {
        "id": "-KvaCmLB9rZ9"
      },
      "execution_count": null,
      "outputs": []
    },
    {
      "cell_type": "code",
      "source": [
        "print(\"GRÁFICO DA SIMONE\")\n",
        "geradorDeGrafico(result_simone)"
      ],
      "metadata": {
        "id": "1iDFl1NB9r3h"
      },
      "execution_count": null,
      "outputs": []
    }
  ]
}